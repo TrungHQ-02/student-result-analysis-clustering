{
 "cells": [
  {
   "attachments": {},
   "cell_type": "markdown",
   "metadata": {},
   "source": [
    "Project: Student Result Analysis Using K-means and Fuzzy C-means\n",
    "\n",
    "dataset: https://www.kaggle.com/datasets/spscientist/students-performance-in-exams\n",
    "\n",
    "Algorithms: KMeans, Fuzzy C-Means\n",
    "\n",
    "Inspiration: To understand the influence of the parents background, test preparation, etc on students performance\n",
    "\n",
    "Main Steps:\n",
    "1. Data preprocessing\n",
    "2. Outlier Detection\n",
    "3. Basic Analysis\n",
    "4. Apply KMeans and visualize results\n",
    "5. Apply Fuzzy C-means and visualize results\n",
    "6. Performance Evaluation\n",
    "7. Conclusion, represent knowledge"
   ]
  }
 ],
 "metadata": {
  "kernelspec": {
   "display_name": "Python 3",
   "language": "python",
   "name": "python3"
  },
  "language_info": {
   "name": "python",
   "version": "3.10.10"
  },
  "orig_nbformat": 4,
  "vscode": {
   "interpreter": {
    "hash": "486e0d5a79acdbfffd563ee7a67a93a5017bd2a4f66495483a69f0245c8a4a6c"
   }
  }
 },
 "nbformat": 4,
 "nbformat_minor": 2
}
